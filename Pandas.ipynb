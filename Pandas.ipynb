{
  "nbformat": 4,
  "nbformat_minor": 0,
  "metadata": {
    "colab": {
      "name": "Welcome To Colaboratory",
      "provenance": [],
      "collapsed_sections": [],
      "toc_visible": true,
      "include_colab_link": true
    },
    "kernelspec": {
      "display_name": "Python 3",
      "name": "python3"
    }
  },
  "cells": [
    {
      "cell_type": "markdown",
      "metadata": {
        "id": "view-in-github",
        "colab_type": "text"
      },
      "source": [
        "<a href=\"https://colab.research.google.com/github/tier3guy/.cpp-Files-from-Apna-College/blob/main/Pandas.ipynb\" target=\"_parent\"><img src=\"https://colab.research.google.com/assets/colab-badge.svg\" alt=\"Open In Colab\"/></a>"
      ]
    },
    {
      "cell_type": "markdown",
      "metadata": {
        "id": "SskEFbY-Lma4"
      },
      "source": [
        "**Pandas Tutorial**\n",
        "\n",
        "Pandas is an open source Python package that is most widely used for data science/data analysis and machine learning tasks. It is built on top of another package named Numpy, which provides support for multi-dimensional arrays. As one of the most popular data wrangling packages, Pandas works well with many other data science modules inside the Python ecosystem.\n",
        "\n",
        "\n",
        "**Pandas is used to analyze data.**\n",
        "\n",
        "It has functions for analyzing, cleaning, exploring, and manipulating data.Pandas allows us to analyze big data and make conclusions based on statistical theories.\n",
        "\n",
        "Pandas can clean messy data sets, and make them readable and relevant.\n",
        "\n",
        "Relevant data is very important in data science."
      ]
    },
    {
      "cell_type": "code",
      "metadata": {
        "id": "rqanjBHbNoo7"
      },
      "source": [
        "# importing pandas under pd alias\n",
        "import pandas as pd"
      ],
      "execution_count": 1,
      "outputs": []
    },
    {
      "cell_type": "code",
      "metadata": {
        "id": "MdXkjgPuNyEN",
        "outputId": "276ec270-1214-4568-eb8d-063697b561c5",
        "colab": {
          "base_uri": "https://localhost:8080/"
        }
      },
      "source": [
        "# Creating a sample dictionary\n",
        "__student_markings = {\n",
        "    'Name' : ['Avinash', 'Abhijeet', 'Elina', 'Rohit', 'Kamya', 'Laraib', 'Viran'],\n",
        "    'Percentile' : [85, 92, 90, 82, 50, 85, 100]\n",
        "}\n",
        "\n",
        "# Creating a data frame for a dictionary '__student_markings'\n",
        "data__framing = pd.DataFrame(__student_markings)\n",
        "print(data__framing)"
      ],
      "execution_count": 2,
      "outputs": [
        {
          "output_type": "stream",
          "name": "stdout",
          "text": [
            "       Name  Percentile\n",
            "0   Avinash          85\n",
            "1  Abhijeet          92\n",
            "2     Elina          90\n",
            "3     Rohit          82\n",
            "4     Kamya          50\n",
            "5    Laraib          85\n",
            "6     Viran         100\n"
          ]
        }
      ]
    },
    {
      "cell_type": "markdown",
      "metadata": {
        "id": "L4tCzbKsP1gJ"
      },
      "source": [
        "In the above data-framing indexing are introduced automatically."
      ]
    },
    {
      "cell_type": "markdown",
      "metadata": {
        "id": "TXyCjkm4RQ0X"
      },
      "source": [
        "**Pandas Series**\n",
        "\n",
        "A pandas is series is like a column in a table. It is a one-dimensional array."
      ]
    },
    {
      "cell_type": "code",
      "metadata": {
        "id": "9DhpVJUtRhfX",
        "outputId": "ba7437fd-4c34-4b6b-bdfb-22d162b737bd",
        "colab": {
          "base_uri": "https://localhost:8080/"
        }
      },
      "source": [
        "# Creating an One-d array\n",
        "__one_d_array = ['Avinash', 'B.Tech', 'Information Technology', 'Narula Institute of Technology', 'Kolkata']\n",
        "\n",
        "# Creating a series of that array.\n",
        "__a_series = pd.Series(__one_d_array)\n",
        "\n",
        "print(__a_series)"
      ],
      "execution_count": 6,
      "outputs": [
        {
          "output_type": "stream",
          "name": "stdout",
          "text": [
            "0                           Avinash\n",
            "1                            B.Tech\n",
            "2            Information Technology\n",
            "3    Narula Institute of Technology\n",
            "4                           Kolkata\n",
            "dtype: object\n"
          ]
        }
      ]
    },
    {
      "cell_type": "markdown",
      "metadata": {
        "id": "dsVfjV8NS9xd"
      },
      "source": [
        "These indexes (0, 1, 2..) are called Labels. These helps us to retrieve a specific data. "
      ]
    },
    {
      "cell_type": "code",
      "metadata": {
        "id": "Job8kDyDQwuT",
        "outputId": "7d20fe88-c811-43cb-d382-4f372c450646",
        "colab": {
          "base_uri": "https://localhost:8080/"
        }
      },
      "source": [
        "print(__a_series[0])"
      ],
      "execution_count": 7,
      "outputs": [
        {
          "output_type": "stream",
          "name": "stdout",
          "text": [
            "Avinash\n"
          ]
        }
      ]
    },
    {
      "cell_type": "markdown",
      "metadata": {
        "id": "I1kfHUydTS54"
      },
      "source": [
        "We can create our own indexing by passing an indexing array."
      ]
    },
    {
      "cell_type": "code",
      "metadata": {
        "id": "09yy0h3kS8FP",
        "outputId": "75750315-1358-4475-8d09-90f702164e33",
        "colab": {
          "base_uri": "https://localhost:8080/"
        }
      },
      "source": [
        "__a_series = pd.Series(__one_d_array, index = ['a', 'b', 'c', 'd', 'e'])\n",
        "print(__a_series)"
      ],
      "execution_count": 13,
      "outputs": [
        {
          "output_type": "stream",
          "name": "stdout",
          "text": [
            "a                           Avinash\n",
            "b                            B.Tech\n",
            "c            Information Technology\n",
            "d    Narula Institute of Technology\n",
            "e                           Kolkata\n",
            "dtype: object\n"
          ]
        }
      ]
    },
    {
      "cell_type": "code",
      "metadata": {
        "id": "8qVS5VklUfSd",
        "outputId": "72e748bc-a2ac-422d-e160-8d827bd02719",
        "colab": {
          "base_uri": "https://localhost:8080/"
        }
      },
      "source": [
        "print(__a_series['e'])"
      ],
      "execution_count": 11,
      "outputs": [
        {
          "output_type": "stream",
          "name": "stdout",
          "text": [
            "Kolkata\n"
          ]
        }
      ]
    },
    {
      "cell_type": "markdown",
      "metadata": {
        "id": "i3OdxwQ3VDgC"
      },
      "source": [
        "Till now we have passed array as a series but we can also pass a **Dictionary as a Series** where key will act as an Label."
      ]
    },
    {
      "cell_type": "code",
      "metadata": {
        "id": "7Txy3JN5UkOg",
        "outputId": "7d227348-b919-4d4c-dc10-e319da19b55e",
        "colab": {
          "base_uri": "https://localhost:8080/"
        }
      },
      "source": [
        "__a_dictionary = {\n",
        "    'Avinash' : 85,\n",
        "    'Abhijeet' : 92,\n",
        "    'Rohit' : 82,\n",
        "    'Elina' : 90\n",
        "}\n",
        "__a__dictionary_series = pd.Series(__a_dictionary)\n",
        "print(__a__dictionary_series)"
      ],
      "execution_count": 16,
      "outputs": [
        {
          "output_type": "stream",
          "name": "stdout",
          "text": [
            "Avinash     85\n",
            "Abhijeet    92\n",
            "Rohit       82\n",
            "Elina       90\n",
            "dtype: int64\n"
          ]
        }
      ]
    },
    {
      "cell_type": "code",
      "metadata": {
        "id": "Ntr6WHz_WDxG",
        "outputId": "9c695ab7-17db-4c62-9a71-e80585b09dcd",
        "colab": {
          "base_uri": "https://localhost:8080/"
        }
      },
      "source": [
        "print(__a__dictionary_series['Avinash'])"
      ],
      "execution_count": 17,
      "outputs": [
        {
          "output_type": "stream",
          "name": "stdout",
          "text": [
            "85\n"
          ]
        }
      ]
    },
    {
      "cell_type": "code",
      "metadata": {
        "id": "23oQ-G_jWKwV"
      },
      "source": [
        ""
      ],
      "execution_count": null,
      "outputs": []
    }
  ]
}